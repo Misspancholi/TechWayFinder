{
  "cells": [
    {
      "cell_type": "code",
      "execution_count": null,
      "metadata": {
        "colab": {
          "base_uri": "https://localhost:8080/"
        },
        "id": "PpQVyND7nTWZ",
        "outputId": "40cad58e-dab5-464b-ace5-372565f39f89"
      },
      "outputs": [],
      "source": [
        "!pip install --upgrade pandas==2.0.3"
      ]
    },
    {
      "cell_type": "code",
      "execution_count": 11,
      "metadata": {
        "colab": {
          "base_uri": "https://localhost:8080/",
          "height": 200
        },
        "id": "oiSumuPNni_x",
        "outputId": "260f5652-c157-4664-9ff1-5f408d787721"
      },
      "outputs": [],
      "source": [
        "import pandas as pd"
      ]
    },
    {
      "cell_type": "code",
      "execution_count": 10,
      "metadata": {
        "colab": {
          "base_uri": "https://localhost:8080/",
          "height": 512
        },
        "id": "Mzs_Hl7cmcgb",
        "outputId": "3242baa0-2a3a-4080-f9ea-8a03d6cbd502"
      },
      "outputs": [],
      "source": [
        "import numpy as np\n",
        "import matplotlib.pyplot as plt\n",
        "import seaborn as sns\n",
        "df = pd.read_csv('realistic_dataset.csv')"
      ]
    },
    {
      "cell_type": "code",
      "execution_count": 12,
      "metadata": {},
      "outputs": [
        {
          "name": "stdout",
          "output_type": "stream",
          "text": [
            "(6482, 16)\n",
            "Role\n",
            "Cyber Security Specialist          450\n",
            "Graphics Designer                  448\n",
            "Software Developer                 446\n",
            "Database Administrator             446\n",
            "Technical Writer                   441\n",
            "Data Scientist                     441\n",
            "AI ML Specialist                   438\n",
            "Customer Service Executive         434\n",
            "Business Analyst                   432\n",
            "Hardware Engineer                  426\n",
            "Networking Engineer                424\n",
            "Information Security Specialist    424\n",
            "Software tester                    422\n",
            "Helpdesk Engineer                  408\n",
            "API Specialist                     402\n",
            "Name: count, dtype: int64\n"
          ]
        }
      ],
      "source": [
        "real= pd.read_csv('cleaned_dataset.csv')\n",
        "print(real.shape)\n",
        "print(real['Role'].value_counts())"
      ]
    },
    {
      "cell_type": "code",
      "execution_count": 13,
      "metadata": {},
      "outputs": [
        {
          "name": "stdout",
          "output_type": "stream",
          "text": [
            "(1986, 12)\n",
            "Role\n",
            "Cyber Security Specialist          405\n",
            "Software Developer                 356\n",
            "Database Administrator             312\n",
            "Data Scientist                     264\n",
            "AI ML Specialist                   219\n",
            "Business Analyst                   172\n",
            "Hardware Engineer                  127\n",
            "Networking Engineer                 84\n",
            "Information Security Specialist     42\n",
            "Software tester                      5\n",
            "Name: count, dtype: int64\n"
          ]
        }
      ],
      "source": [
        "print(df.shape)\n",
        "print(df['Role'].value_counts())"
      ]
    },
    {
      "cell_type": "code",
      "execution_count": 14,
      "metadata": {
        "colab": {
          "base_uri": "https://localhost:8080/",
          "height": 141
        },
        "id": "38McdW_IoinH",
        "outputId": "f7c907fe-d639-49ba-8e0a-aa28216fdaf8"
      },
      "outputs": [
        {
          "data": {
            "text/plain": [
              "(1986, 12)"
            ]
          },
          "execution_count": 14,
          "metadata": {},
          "output_type": "execute_result"
        }
      ],
      "source": [
        "df.shape"
      ]
    },
    {
      "cell_type": "code",
      "execution_count": 15,
      "metadata": {
        "colab": {
          "base_uri": "https://localhost:8080/",
          "height": 264
        },
        "id": "Zk7N8C17mab6",
        "outputId": "6daf1fd3-2467-420c-9f54-45b4ac2c056b"
      },
      "outputs": [
        {
          "data": {
            "text/html": [
              "<div>\n",
              "<style scoped>\n",
              "    .dataframe tbody tr th:only-of-type {\n",
              "        vertical-align: middle;\n",
              "    }\n",
              "\n",
              "    .dataframe tbody tr th {\n",
              "        vertical-align: top;\n",
              "    }\n",
              "\n",
              "    .dataframe thead th {\n",
              "        text-align: right;\n",
              "    }\n",
              "</style>\n",
              "<table border=\"1\" class=\"dataframe\">\n",
              "  <thead>\n",
              "    <tr style=\"text-align: right;\">\n",
              "      <th></th>\n",
              "      <th>Database Fundamentals</th>\n",
              "      <th>Computer Architecture</th>\n",
              "      <th>Distributed Computing Systems</th>\n",
              "      <th>Cyber Security</th>\n",
              "      <th>Networking</th>\n",
              "      <th>Software Development</th>\n",
              "      <th>Programming Skills</th>\n",
              "      <th>AI ML</th>\n",
              "      <th>Software Engineering</th>\n",
              "      <th>Business Analysis</th>\n",
              "      <th>Data Science</th>\n",
              "      <th>Role</th>\n",
              "    </tr>\n",
              "  </thead>\n",
              "  <tbody>\n",
              "    <tr>\n",
              "      <th>count</th>\n",
              "      <td>1882</td>\n",
              "      <td>1864</td>\n",
              "      <td>1868</td>\n",
              "      <td>1882</td>\n",
              "      <td>1864</td>\n",
              "      <td>1873</td>\n",
              "      <td>1856</td>\n",
              "      <td>1863</td>\n",
              "      <td>1865</td>\n",
              "      <td>1867</td>\n",
              "      <td>1885</td>\n",
              "      <td>1986</td>\n",
              "    </tr>\n",
              "    <tr>\n",
              "      <th>unique</th>\n",
              "      <td>13</td>\n",
              "      <td>13</td>\n",
              "      <td>11</td>\n",
              "      <td>13</td>\n",
              "      <td>13</td>\n",
              "      <td>13</td>\n",
              "      <td>11</td>\n",
              "      <td>13</td>\n",
              "      <td>11</td>\n",
              "      <td>13</td>\n",
              "      <td>13</td>\n",
              "      <td>10</td>\n",
              "    </tr>\n",
              "    <tr>\n",
              "      <th>top</th>\n",
              "      <td>Professional</td>\n",
              "      <td>Excellent</td>\n",
              "      <td>Excellent</td>\n",
              "      <td>Professional</td>\n",
              "      <td>Excellent</td>\n",
              "      <td>Professional</td>\n",
              "      <td>Intermediate</td>\n",
              "      <td>Excellent</td>\n",
              "      <td>Excellent</td>\n",
              "      <td>Intermediate</td>\n",
              "      <td>Excellent</td>\n",
              "      <td>Cyber Security Specialist</td>\n",
              "    </tr>\n",
              "    <tr>\n",
              "      <th>freq</th>\n",
              "      <td>273</td>\n",
              "      <td>295</td>\n",
              "      <td>322</td>\n",
              "      <td>352</td>\n",
              "      <td>312</td>\n",
              "      <td>299</td>\n",
              "      <td>318</td>\n",
              "      <td>288</td>\n",
              "      <td>320</td>\n",
              "      <td>297</td>\n",
              "      <td>282</td>\n",
              "      <td>405</td>\n",
              "    </tr>\n",
              "  </tbody>\n",
              "</table>\n",
              "</div>"
            ],
            "text/plain": [
              "       Database Fundamentals Computer Architecture  \\\n",
              "count                   1882                  1864   \n",
              "unique                    13                    13   \n",
              "top             Professional             Excellent   \n",
              "freq                     273                   295   \n",
              "\n",
              "       Distributed Computing Systems Cyber Security Networking  \\\n",
              "count                           1868           1882       1864   \n",
              "unique                            11             13         13   \n",
              "top                        Excellent   Professional  Excellent   \n",
              "freq                             322            352        312   \n",
              "\n",
              "       Software Development Programming Skills      AI ML  \\\n",
              "count                  1873               1856       1863   \n",
              "unique                   13                 11         13   \n",
              "top            Professional       Intermediate  Excellent   \n",
              "freq                    299                318        288   \n",
              "\n",
              "       Software Engineering Business Analysis Data Science  \\\n",
              "count                  1865              1867         1885   \n",
              "unique                   11                13           13   \n",
              "top               Excellent      Intermediate    Excellent   \n",
              "freq                    320               297          282   \n",
              "\n",
              "                             Role  \n",
              "count                        1986  \n",
              "unique                         10  \n",
              "top     Cyber Security Specialist  \n",
              "freq                          405  "
            ]
          },
          "execution_count": 15,
          "metadata": {},
          "output_type": "execute_result"
        }
      ],
      "source": [
        "df.describe()"
      ]
    },
    {
      "cell_type": "code",
      "execution_count": 17,
      "metadata": {
        "colab": {
          "base_uri": "https://localhost:8080/"
        },
        "id": "5mHGRZwUmaZ8",
        "outputId": "bf980dca-ca91-45bd-c205-9063503d13c0"
      },
      "outputs": [
        {
          "data": {
            "text/plain": [
              "Index(['Database Fundamentals', 'Computer Architecture',\n",
              "       'Distributed Computing Systems', 'Cyber Security', 'Networking',\n",
              "       'Software Development', 'Programming Skills', 'AI ML',\n",
              "       'Software Engineering', 'Business Analysis', 'Data Science', 'Role'],\n",
              "      dtype='object')"
            ]
          },
          "execution_count": 17,
          "metadata": {},
          "output_type": "execute_result"
        }
      ],
      "source": [
        "# Print the names of all columns in the DataFrame\n",
        "df.columns\n"
      ]
    },
    {
      "cell_type": "code",
      "execution_count": 16,
      "metadata": {
        "colab": {
          "base_uri": "https://localhost:8080/",
          "height": 586
        },
        "id": "Cpn8HRttmaXr",
        "outputId": "2c988a16-abf8-4a62-a564-d7c29857d811"
      },
      "outputs": [
        {
          "data": {
            "text/plain": [
              "Database Fundamentals            104\n",
              "Computer Architecture            122\n",
              "Distributed Computing Systems    118\n",
              "Cyber Security                   104\n",
              "Networking                       122\n",
              "Software Development             113\n",
              "Programming Skills               130\n",
              "AI ML                            123\n",
              "Software Engineering             121\n",
              "Business Analysis                119\n",
              "Data Science                     101\n",
              "Role                               0\n",
              "dtype: int64"
            ]
          },
          "execution_count": 16,
          "metadata": {},
          "output_type": "execute_result"
        }
      ],
      "source": [
        "df.isna().sum()"
      ]
    },
    {
      "cell_type": "markdown",
      "metadata": {
        "id": "UqQfh7I8wBtj"
      },
      "source": [
        "## try to drop null vlues\n"
      ]
    },
    {
      "cell_type": "code",
      "execution_count": 7,
      "metadata": {
        "id": "LeqviBlUmaQu"
      },
      "outputs": [],
      "source": [
        "droped = df.dropna()"
      ]
    },
    {
      "cell_type": "code",
      "execution_count": 8,
      "metadata": {
        "colab": {
          "base_uri": "https://localhost:8080/",
          "height": 586
        },
        "id": "sBTFgF8uor_z",
        "outputId": "59c67f28-9a01-4e2c-fa90-3de9a3ad1fa3"
      },
      "outputs": [
        {
          "data": {
            "text/plain": [
              "Database Fundamentals              0\n",
              "Computer Architecture              0\n",
              "Distributed Computing Systems      0\n",
              "Cyber Security                     0\n",
              "Networking                         0\n",
              "Software Development               0\n",
              "Programming Skills                 0\n",
              "Project Management                 0\n",
              "Computer Forensics Fundamentals    0\n",
              "Technical Communication            0\n",
              "AI ML                              0\n",
              "Software Engineering               0\n",
              "Business Analysis                  0\n",
              "Data Science                       0\n",
              "Troubleshooting skills             0\n",
              "Role                               0\n",
              "dtype: int64"
            ]
          },
          "execution_count": 8,
          "metadata": {},
          "output_type": "execute_result"
        }
      ],
      "source": [
        "droped.isna().sum()"
      ]
    },
    {
      "cell_type": "code",
      "execution_count": 9,
      "metadata": {
        "colab": {
          "base_uri": "https://localhost:8080/"
        },
        "id": "a9xNHwuBowHk",
        "outputId": "66ca692a-dd7e-41fd-a95a-e9bbbdfe610d"
      },
      "outputs": [
        {
          "data": {
            "text/plain": [
              "(2694, 16)"
            ]
          },
          "execution_count": 9,
          "metadata": {},
          "output_type": "execute_result"
        }
      ],
      "source": [
        "# there are too much null values so\n",
        "droped.shape"
      ]
    },
    {
      "cell_type": "markdown",
      "metadata": {
        "id": "qPbcT7fXwMOS"
      },
      "source": [
        "## droping non it jobroles"
      ]
    },
    {
      "cell_type": "code",
      "execution_count": 10,
      "metadata": {
        "colab": {
          "base_uri": "https://localhost:8080/"
        },
        "id": "_7lhJEr8maN8",
        "outputId": "de3808f7-b329-4bba-9e56-c1791b3a0337"
      },
      "outputs": [
        {
          "data": {
            "text/plain": [
              "array(['API Specialist', 'Graphics Designer', 'Technical Writer',\n",
              "       'AI ML Specialist', 'Helpdesk Engineer', 'Hardware Engineer',\n",
              "       'Software Developer', 'Customer Service Executive',\n",
              "       'Business Analyst', 'Networking Engineer', 'Software tester',\n",
              "       'Cyber Security Specialist', 'Data Scientist',\n",
              "       'Information Security Specialist', 'Database Administrator'],\n",
              "      dtype=object)"
            ]
          },
          "execution_count": 10,
          "metadata": {},
          "output_type": "execute_result"
        }
      ],
      "source": [
        "df['Role'].unique()"
      ]
    },
    {
      "cell_type": "code",
      "execution_count": null,
      "metadata": {
        "colab": {
          "base_uri": "https://localhost:8080/"
        },
        "id": "QoeZeoT5t51y",
        "outputId": "ded417d7-b21b-49c3-d0f8-44f55ccc9aa4"
      },
      "outputs": [
        {
          "data": {
            "text/plain": [
              "(4349, 16)"
            ]
          },
          "execution_count": 26,
          "metadata": {},
          "output_type": "execute_result"
        }
      ],
      "source": [
        "roles_drop =['API Specialist', 'Graphics Designer', 'Technical Writer',\n",
        "        'Helpdesk Engineer', 'Customer Service Executive']\n",
        "\n",
        "# Use boolean indexing to select rows where 'Role' is NOT in roles_drop\n",
        "df = df[~df['Role'].isin(roles_drop)]\n",
        "\n",
        "# Display the updated DataFrame shape\n",
        "df.shape"
      ]
    },
    {
      "cell_type": "code",
      "execution_count": null,
      "metadata": {
        "colab": {
          "base_uri": "https://localhost:8080/"
        },
        "id": "vA4jOgOPu07O",
        "outputId": "30fab126-56b1-4909-97e5-9ba49b446d8e"
      },
      "outputs": [
        {
          "data": {
            "text/plain": [
              "array(['AI ML Specialist', 'Hardware Engineer', 'Software Developer',\n",
              "       'Business Analyst', 'Networking Engineer', 'Software tester',\n",
              "       'Cyber Security Specialist', 'Data Scientist',\n",
              "       'Information Security Specialist', 'Database Administrator'],\n",
              "      dtype=object)"
            ]
          },
          "execution_count": 27,
          "metadata": {},
          "output_type": "execute_result"
        }
      ],
      "source": [
        "df['Role'].unique()"
      ]
    },
    {
      "cell_type": "markdown",
      "metadata": {
        "id": "lqksh9rjwl6-"
      },
      "source": [
        "## dropping unnecesrry columns\n"
      ]
    },
    {
      "cell_type": "code",
      "execution_count": null,
      "metadata": {
        "colab": {
          "base_uri": "https://localhost:8080/"
        },
        "id": "F-SEVmc5w0OQ",
        "outputId": "66afbd51-38ac-4a17-9fdc-4d20e021d94e"
      },
      "outputs": [
        {
          "data": {
            "text/plain": [
              "Index(['Database Fundamentals', 'Computer Architecture',\n",
              "       'Distributed Computing Systems', 'Cyber Security', 'Networking',\n",
              "       'Software Development', 'Programming Skills', 'Project Management',\n",
              "       'Computer Forensics Fundamentals', 'Technical Communication', 'AI ML',\n",
              "       'Software Engineering', 'Business Analysis', 'Data Science',\n",
              "       'Troubleshooting skills', 'Role'],\n",
              "      dtype='object')"
            ]
          },
          "execution_count": 29,
          "metadata": {},
          "output_type": "execute_result"
        }
      ],
      "source": [
        "df.columns"
      ]
    },
    {
      "cell_type": "code",
      "execution_count": null,
      "metadata": {
        "id": "IMhRr5y9w4wg"
      },
      "outputs": [],
      "source": [
        "# removing columns list\n",
        "dropping = ['Project Management',\n",
        "       'Computer Forensics Fundamentals', 'Technical Communication','Troubleshooting skills',]"
      ]
    }
  ],
  "metadata": {
    "colab": {
      "provenance": []
    },
    "kernelspec": {
      "display_name": "Python 3",
      "name": "python3"
    },
    "language_info": {
      "codemirror_mode": {
        "name": "ipython",
        "version": 3
      },
      "file_extension": ".py",
      "mimetype": "text/x-python",
      "name": "python",
      "nbconvert_exporter": "python",
      "pygments_lexer": "ipython3",
      "version": "3.13.2"
    }
  },
  "nbformat": 4,
  "nbformat_minor": 0
}
